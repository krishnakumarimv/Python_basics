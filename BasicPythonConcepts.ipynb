{
  "nbformat": 4,
  "nbformat_minor": 0,
  "metadata": {
    "colab": {
      "provenance": [],
      "authorship_tag": "ABX9TyPtAm+2P+mZZE4wXu8uLNO6",
      "include_colab_link": true
    },
    "kernelspec": {
      "name": "python3",
      "display_name": "Python 3"
    },
    "language_info": {
      "name": "python"
    }
  },
  "cells": [
    {
      "cell_type": "markdown",
      "metadata": {
        "id": "view-in-github",
        "colab_type": "text"
      },
      "source": [
        "<a href=\"https://colab.research.google.com/github/krishnakumarimv/Python_basics/blob/main/BasicPythonConcepts.ipynb\" target=\"_parent\"><img src=\"https://colab.research.google.com/assets/colab-badge.svg\" alt=\"Open In Colab\"/></a>"
      ]
    },
    {
      "cell_type": "markdown",
      "source": [
        "# Basic Python Concepts: Interactive Guide"
      ],
      "metadata": {
        "id": "J67x3MP8E3q-"
      }
    },
    {
      "cell_type": "code",
      "execution_count": null,
      "metadata": {
        "id": "KqYzDJiQwwmm"
      },
      "outputs": [],
      "source": [
        "## Section 1: Data Types\n",
        "\n",
        "# Concept: Python supports various data types.\n",
        "# Integer, Float, String, Boolean\n",
        "\n",
        "# Code Example\n",
        "x = 42  # Integer\n",
        "y = 3.14  # Float\n",
        "z = \"Hello, Python!\"  # String\n",
        "is_active = True  # Boolean\n",
        "\n",
        "print(\"Data Types Example:\")\n",
        "print(f\"x is {type(x)}\")\n",
        "print(f\"y is {type(y)}\")\n",
        "print(f\"z is {type(z)}\")\n",
        "print(f\"is_active is {type(is_active)}\")"
      ]
    },
    {
      "cell_type": "markdown",
      "source": [
        "Exercise:\n",
        "Replace values with your own examples and print their types below.\n",
        "\n",
        "a = 100\n",
        "\n",
        "b = 2.71\n",
        "\n",
        "c = \"Python is awesome!\"\n",
        "\n",
        "d = False\n",
        "\n",
        "print(f\"a is {type(a)}\")\n",
        "\n",
        "print(f\"b is {type(b)}\")\n",
        "\n",
        "print(f\"c is {type(c)}\")\n",
        "\n",
        "print(f\"d is {type(d)}\")"
      ],
      "metadata": {
        "id": "GhDm97ABYbb3"
      }
    },
    {
      "cell_type": "code",
      "source": [
        "## Section 2: Variables and Data Structures\n",
        "\n",
        "# Concept: Python provides versatile structures to store data: Lists, Tuples, Dictionaries, Sets.\n",
        "\n",
        "# Code Example\n",
        "# List Example\n",
        "fruits = [\"apple\", \"banana\", \"cherry\"]\n",
        "fruits.append(\"orange\")\n",
        "print(\"\\nList Example:\")\n",
        "print(fruits)\n"
      ],
      "metadata": {
        "id": "UY7E349NxPTE"
      },
      "execution_count": null,
      "outputs": []
    },
    {
      "cell_type": "code",
      "source": [
        "# Tuple Example\n",
        "coordinates = (10, 20)\n",
        "print(\"\\nTuple Example:\")\n",
        "print(coordinates)"
      ],
      "metadata": {
        "id": "zgALhiJUydpD"
      },
      "execution_count": null,
      "outputs": []
    },
    {
      "cell_type": "code",
      "source": [
        "# Dictionary Example\n",
        "student = {\"name\": \"Alice\", \"age\": 20}\n",
        "student[\"grade\"] = \"A+\"\n",
        "print(\"\\nDictionary Example:\")\n",
        "print(student)"
      ],
      "metadata": {
        "id": "zptthdNV1iPb"
      },
      "execution_count": null,
      "outputs": []
    },
    {
      "cell_type": "code",
      "source": [
        "# Set Example\n",
        "unique_numbers = {1, 2, 3, 3, 4}\n",
        "print(\"\\nSet Example:\")\n",
        "print(unique_numbers)"
      ],
      "metadata": {
        "id": "zgZMUxwV1paI"
      },
      "execution_count": null,
      "outputs": []
    },
    {
      "cell_type": "markdown",
      "source": [
        "#\n",
        "Exercise:\n",
        "# Add a new fruit to the list and a new key-value pair to the dictionary.\n",
        "\n",
        "\n",
        "fruits.append(\"grape\")\n",
        "\n",
        "print(\"Updated List:\", fruits)\n",
        "\n",
        "student[\"city\"] = \"New York\"\n",
        "\n",
        "print(\"Updated Dictionary:\", student)"
      ],
      "metadata": {
        "id": "FSS9kcy8aeXt"
      }
    },
    {
      "cell_type": "code",
      "source": [
        "## Section 3: Conditional Statements\n",
        "\n",
        "# Concept: Control flow using if, else, and elif.\n",
        "\n",
        "# Code Example\n",
        "age = 18\n",
        "print(\"\\nConditional Statement Example:\")\n",
        "if age < 18:\n",
        "    print(\"You are a minor.\")\n",
        "elif age == 18:\n",
        "    print(\"You just became an adult!\")\n",
        "else:\n",
        "    print(\"You are an adult.\")"
      ],
      "metadata": {
        "id": "M_CUYGWr13-_"
      },
      "execution_count": null,
      "outputs": []
    },
    {
      "cell_type": "markdown",
      "source": [
        "# **Exercise:**\n",
        "# **Check if a number is positive, negative, or zero.**\n",
        "\n",
        "number = int(input(\"Enter a number: \"))\n",
        "\n",
        "if number > 0:\n",
        "\n",
        "    print(\"Positive\")\n",
        "\n",
        "elif number < 0:\n",
        "\n",
        "    print(\"Negative\")\n",
        "else:\n",
        "\n",
        "    print(\"Zero\")\n"
      ],
      "metadata": {
        "id": "xKTsgiW9cY6p"
      }
    },
    {
      "cell_type": "code",
      "source": [
        "## Section 4: Loops\n",
        "\n",
        "# Concept: Repeatedly execute blocks of code using for and while loops.\n",
        "\n",
        "# Code Example\n",
        "print(\"\\nFor Loop Example:\")\n",
        "for i in range(5):\n",
        "    print(i)\n",
        "\n",
        "print(\"\\nWhile Loop Example:\")\n",
        "count = 0\n",
        "while count < 5:\n",
        "    print(count)\n",
        "    count += 1"
      ],
      "metadata": {
        "id": "TmJ-PVJi2fSt"
      },
      "execution_count": null,
      "outputs": []
    },
    {
      "cell_type": "markdown",
      "source": [
        "# Exercise:\n",
        "# 1. Write a for loop to print all even numbers from 1 to 10.\n",
        "print(\"\\nFor Loop Exercise:\")\n",
        "\n",
        "for i in range(1, 11):\n",
        "\n",
        "    if i % 2 == 0:\n",
        "    \n",
        "        print(i)"
      ],
      "metadata": {
        "id": "1VelpsYnfApM"
      }
    },
    {
      "cell_type": "code",
      "source": [
        "## Section 5: Functions and Lambda Expressions\n",
        "\n",
        "# Concept: Reusable code blocks and one-line anonymous functions.\n",
        "\n",
        "# Code Example\n",
        "# Function Example\n",
        "def greet(name):\n",
        "    return f\"Hello, {name}!\""
      ],
      "metadata": {
        "id": "kwXl-3fo2ewu"
      },
      "execution_count": null,
      "outputs": []
    },
    {
      "cell_type": "code",
      "source": [
        "# Lambda Example\n",
        "square = lambda x: x ** 2\n",
        "\n",
        "print(\"\\nFunction and Lambda Example:\")\n",
        "print(greet(\"Alice\"))\n",
        "print(square(5))"
      ],
      "metadata": {
        "id": "IbExWCxuEc9A"
      },
      "execution_count": null,
      "outputs": []
    },
    {
      "cell_type": "markdown",
      "source": [
        "# Exercise:\n",
        "# 1. Write a function multiply to multiply two numbers.\n",
        "\n",
        "def multiply(a, b):\n",
        "\n",
        "    return a * b\n",
        "\n",
        "print(\"Multiplication Result:\", multiply(3, 4))\n",
        "\n",
        "# 2. Create a lambda function to find the cube of a number.\n",
        "cube = lambda x: x ** 3\n",
        "\n",
        "print(\"Cube Result:\", cube(3))\n",
        "\n"
      ],
      "metadata": {
        "id": "64dflMpsqT-T"
      }
    }
  ]
}